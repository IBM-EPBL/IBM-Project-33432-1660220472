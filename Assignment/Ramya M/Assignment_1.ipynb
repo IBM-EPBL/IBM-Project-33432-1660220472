{
 "cells": [
  {
   "cell_type": "markdown",
   "id": "8bb795b7-289a-4b09-9ff5-e958c7c2f29d",
   "metadata": {},
   "source": [
    "1. Split this string\n"
   ]
  },
  {
   "cell_type": "code",
   "execution_count": 1,
   "id": "3d3b4314-071f-4aa4-9620-781e45d392e5",
   "metadata": {},
   "outputs": [],
   "source": [
    "s = \"Hi there Sam!\""
   ]
  },
  {
   "cell_type": "code",
   "execution_count": 2,
   "id": "de133a29-8c2a-4f17-b016-74e4f01c5e60",
   "metadata": {},
   "outputs": [
    {
     "data": {
      "text/plain": [
       "['Hi', 'there', 'Sam!']"
      ]
     },
     "execution_count": 2,
     "metadata": {},
     "output_type": "execute_result"
    }
   ],
   "source": [
    "s.split()"
   ]
  },
  {
   "cell_type": "markdown",
   "id": "8e51e8ef-4293-44c1-b160-1bfa899a74aa",
   "metadata": {},
   "source": [
    "2. Use .format() to print the following string.\n",
    "Output should be: The diameter of Earth is 12742 kilometers.\n"
   ]
  },
  {
   "cell_type": "code",
   "execution_count": 3,
   "id": "3ab3d865-90e8-4065-aa04-0733cd99890c",
   "metadata": {},
   "outputs": [],
   "source": [
    "planet = \"Earth\"\n",
    "diameter = 12742"
   ]
  },
  {
   "cell_type": "code",
   "execution_count": 4,
   "id": "c8c02b13-93e7-4276-9fa9-d5b2a3690288",
   "metadata": {},
   "outputs": [
    {
     "data": {
      "text/plain": [
       "'The diameter of Earth is 12742 kilometers'"
      ]
     },
     "execution_count": 4,
     "metadata": {},
     "output_type": "execute_result"
    }
   ],
   "source": [
    "\"The diameter of {planet} is {diameter} kilometers\".format(planet = \"Earth\", diameter = 12742)\n"
   ]
  },
  {
   "cell_type": "markdown",
   "id": "b9a18a27-9de0-403a-abf3-64333f7b1702",
   "metadata": {},
   "source": [
    "3. In this nest dictionary grab the word \"hello\"\n"
   ]
  },
  {
   "cell_type": "code",
   "execution_count": 5,
   "id": "9d86a9a2-b57e-454d-a87e-c1d0f54ba276",
   "metadata": {},
   "outputs": [],
   "source": [
    "d = {'k1':[1,2,3,{'tricky':['oh','man','inception',{'target':[1,2,3,'hello']}]}]}\n"
   ]
  },
  {
   "cell_type": "code",
   "execution_count": 6,
   "id": "9c276467-4c81-4ebc-a4b6-bbd1a62a471a",
   "metadata": {},
   "outputs": [
    {
     "data": {
      "text/plain": [
       "'hello'"
      ]
     },
     "execution_count": 6,
     "metadata": {},
     "output_type": "execute_result"
    }
   ],
   "source": [
    "d['k1'][3]['tricky'][3]['target'][3]\n"
   ]
  },
  {
   "cell_type": "markdown",
   "id": "84e42816-640e-4eb1-8c37-75af25f5b5cb",
   "metadata": {},
   "source": [
    "Numpy\n"
   ]
  },
  {
   "cell_type": "code",
   "execution_count": 7,
   "id": "5cc4f3d1-2c85-4517-842e-58cd7f85345d",
   "metadata": {},
   "outputs": [],
   "source": [
    "import numpy as np\n"
   ]
  },
  {
   "cell_type": "markdown",
   "id": "a903d378-2f3e-405b-8448-671a4219914d",
   "metadata": {},
   "source": [
    "4.1 Create an array of 10 zeros?\n"
   ]
  },
  {
   "cell_type": "markdown",
   "id": "25b4dd86-7831-4cc5-bb14-387b3613eff4",
   "metadata": {},
   "source": [
    "4.2 Create an array of 10 fives?"
   ]
  },
  {
   "cell_type": "code",
   "execution_count": 8,
   "id": "5979891e-548c-4a67-a838-76c33a3211c9",
   "metadata": {},
   "outputs": [
    {
     "data": {
      "text/plain": [
       "array([0., 0., 0., 0., 0., 0., 0., 0., 0., 0.])"
      ]
     },
     "execution_count": 8,
     "metadata": {},
     "output_type": "execute_result"
    }
   ],
   "source": [
    "np.zeros(10)"
   ]
  },
  {
   "cell_type": "code",
   "execution_count": 9,
   "id": "ffbe67fe-1573-484f-b899-d57675838d4f",
   "metadata": {},
   "outputs": [
    {
     "data": {
      "text/plain": [
       "array([5., 5., 5., 5., 5., 5., 5., 5., 5., 5.])"
      ]
     },
     "execution_count": 9,
     "metadata": {},
     "output_type": "execute_result"
    }
   ],
   "source": [
    "np.ones(10)*5\n"
   ]
  },
  {
   "cell_type": "markdown",
   "id": "5d767e1c-e66c-4f61-993e-c867758218f0",
   "metadata": {},
   "source": [
    "5. Create an array of all the even integers from 20 to 35"
   ]
  },
  {
   "cell_type": "code",
   "execution_count": 10,
   "id": "9475559a-5b95-4d3b-9751-4d5ae6087770",
   "metadata": {},
   "outputs": [
    {
     "data": {
      "text/plain": [
       "array([20, 22, 24, 26, 28, 30, 32, 34])"
      ]
     },
     "execution_count": 10,
     "metadata": {},
     "output_type": "execute_result"
    }
   ],
   "source": [
    "np.arange(20,35,2)"
   ]
  },
  {
   "cell_type": "markdown",
   "id": "a8fe92c6-fc95-405c-a7ca-1ef8acccf492",
   "metadata": {},
   "source": [
    "6. Create a 3x3 matrix with values ranging from 0 to 8"
   ]
  },
  {
   "cell_type": "code",
   "execution_count": 11,
   "id": "537ed1a8-60b1-40e0-9f1d-4c9443b634e5",
   "metadata": {},
   "outputs": [
    {
     "data": {
      "text/plain": [
       "array([[0, 1, 2],\n",
       "       [3, 4, 5],\n",
       "       [6, 7, 8]])"
      ]
     },
     "execution_count": 11,
     "metadata": {},
     "output_type": "execute_result"
    }
   ],
   "source": [
    "np.arange(0,9).reshape(3,3)"
   ]
  },
  {
   "cell_type": "markdown",
   "id": "c7938cc0-2150-4202-b42f-a551ac3cab6d",
   "metadata": {},
   "source": [
    "7. Concatenate a and b\n"
   ]
  },
  {
   "cell_type": "markdown",
   "id": "344d3818-3ccf-4c41-a193-2fd99d924caf",
   "metadata": {},
   "source": [
    "a = np.array([1, 2, 3]), b = np.array([4, 5, 6])\n"
   ]
  },
  {
   "cell_type": "code",
   "execution_count": 12,
   "id": "57584783-5e5b-4500-b4fb-0baa378f606e",
   "metadata": {},
   "outputs": [
    {
     "data": {
      "text/plain": [
       "array([1, 2, 3, 4, 5, 6])"
      ]
     },
     "execution_count": 12,
     "metadata": {},
     "output_type": "execute_result"
    }
   ],
   "source": [
    "a = np.array([1,2,3])\n",
    "b = np.array([4,5,6])\n",
    "np.concatenate((a,b))"
   ]
  },
  {
   "cell_type": "markdown",
   "id": "fba9508c-2b09-4a26-b8fb-34b25c2625ba",
   "metadata": {},
   "source": [
    "Pandas"
   ]
  },
  {
   "cell_type": "markdown",
   "id": "589b644a-8166-4e3f-ba9a-a7a4a29bee3f",
   "metadata": {},
   "source": [
    "8. Create a dataframe with 3 rows and 2 columns\n"
   ]
  },
  {
   "cell_type": "code",
   "execution_count": 13,
   "id": "b1e6553e-2e89-4105-90c7-30ce4d367f3b",
   "metadata": {},
   "outputs": [],
   "source": [
    "import pandas as pd\n"
   ]
  },
  {
   "cell_type": "code",
   "execution_count": 14,
   "id": "5d1c23bf-b4c5-40f1-9a62-d53eda874025",
   "metadata": {},
   "outputs": [
    {
     "name": "stdout",
     "output_type": "stream",
     "text": [
      "        NAME BRANCH\n",
      "0  Mahadevan    CSE\n",
      "1  Selvamani    CSE\n",
      "2     Vikram    CSE\n"
     ]
    }
   ],
   "source": [
    "data = [['Mahadevan', 'CSE'], ['Selvamani', 'CSE'], ['Vikram', 'CSE']]\n",
    "df = pd.DataFrame(data, columns=['NAME', 'BRANCH'])\n",
    "print(df)"
   ]
  },
  {
   "cell_type": "markdown",
   "id": "01b4f924-8043-4040-a785-80674a3aa23d",
   "metadata": {},
   "source": [
    "9. Generate the series of dates from 1st Jan, 2023 to 10th Feb, 2023"
   ]
  },
  {
   "cell_type": "code",
   "execution_count": 15,
   "id": "51d15339-2194-41d4-ab72-bef6d9c06348",
   "metadata": {},
   "outputs": [
    {
     "data": {
      "text/plain": [
       "DatetimeIndex(['2023-01-01', '2023-01-02', '2023-01-03', '2023-01-04',\n",
       "               '2023-01-05', '2023-01-06', '2023-01-07', '2023-01-08',\n",
       "               '2023-01-09', '2023-01-10',\n",
       "               ...\n",
       "               '2023-09-23', '2023-09-24', '2023-09-25', '2023-09-26',\n",
       "               '2023-09-27', '2023-09-28', '2023-09-29', '2023-09-30',\n",
       "               '2023-10-01', '2023-10-02'],\n",
       "              dtype='datetime64[ns]', length=275, freq='D')"
      ]
     },
     "execution_count": 15,
     "metadata": {},
     "output_type": "execute_result"
    }
   ],
   "source": [
    "pd.date_range(start=\"01-01-2023\",end=\"10-02-2023\")\n"
   ]
  },
  {
   "cell_type": "markdown",
   "id": "c51cd617-1907-4e2d-9ed5-281857891db6",
   "metadata": {},
   "source": [
    "10. Create 2D list to DataFrame\n"
   ]
  },
  {
   "cell_type": "code",
   "execution_count": 16,
   "id": "76df32a6-b020-4945-9a83-b40a3bf909fa",
   "metadata": {},
   "outputs": [],
   "source": [
    "lists = [[1, 'aaa', 22], [2, 'bbb', 25], [3, 'ccc', 24]]\n",
    "\n"
   ]
  },
  {
   "cell_type": "code",
   "execution_count": 17,
   "id": "cda2a2b0-0136-4549-b429-a2855368b4b5",
   "metadata": {},
   "outputs": [
    {
     "name": "stdout",
     "output_type": "stream",
     "text": [
      "   d1   d2  d3\n",
      "0   1  aaa  22\n",
      "1   2  bbb  25\n",
      "2   3  ccc  24\n"
     ]
    }
   ],
   "source": [
    "df = pd.DataFrame(lists, columns =['d1', 'd2','d3']) \n",
    "print(df)"
   ]
  },
  {
   "cell_type": "code",
   "execution_count": null,
   "id": "7b0bca27-5fff-4c85-9937-d0ad13d30f10",
   "metadata": {},
   "outputs": [],
   "source": []
  }
 ],
 "metadata": {
  "kernelspec": {
   "display_name": "Python 3 (ipykernel)",
   "language": "python",
   "name": "python3"
  },
  "language_info": {
   "codemirror_mode": {
    "name": "ipython",
    "version": 3
   },
   "file_extension": ".py",
   "mimetype": "text/x-python",
   "name": "python",
   "nbconvert_exporter": "python",
   "pygments_lexer": "ipython3",
   "version": "3.9.12"
  }
 },
 "nbformat": 4,
 "nbformat_minor": 5
}
